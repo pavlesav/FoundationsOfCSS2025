{
 "cells": [
  {
   "cell_type": "code",
   "execution_count": 17,
   "id": "b69c18a0",
   "metadata": {},
   "outputs": [],
   "source": [
    "import numpy as np\n",
    "import csv"
   ]
  },
  {
   "cell_type": "markdown",
   "id": "c11df925",
   "metadata": {},
   "source": [
    "https://numpy.org/"
   ]
  },
  {
   "cell_type": "markdown",
   "id": "32eb198f",
   "metadata": {},
   "source": [
    "These are the prizes of a German Mensa, the meals are separated if they are vegan or not. Now we want to make some analyses about the prices.\n",
    "\n"
   ]
  },
  {
   "cell_type": "code",
   "execution_count": 18,
   "id": "31c26804",
   "metadata": {},
   "outputs": [],
   "source": [
    "vegan_meals = [2.1,4.1,3.6,1.95,2.7,1.95,3.1,1.95,1.95,3.1,1.95,3.1,2.7,1.95,2.7,1.95,3.1,2.4,4.1,1.95,2.4,1.95,4.1,3.1,1.95,2.4,4.1,4.5,1.95,2.4,4.5,1.95,2.4,4.1,4.5,2.1,4.5,2.1,4.5,1.95,6.1,1.95,3.1,4.9,1.95,1.95,3.1,6.1,1.95,4.9,1.95,1.95,6.1,1.95,1.95,4.1,1.95,2.4,1.95,1.95,4.1,1.95,1.95,4.5,1.95,2.4,4.5,1.95,4.5,1.95,4.5,1.95,4.5,1.95,1.95,4.1,4.5,1.95,1.95,1.95,1.95,2.7,4.5,1.95,4.5,2.1,1.95,4.5,1.95,3.1,4.5,4.5,2.7,3.6,4.1,1.95,4.1,5.3,1.95,4.1,1.95,2.4,4.1,5.3,4.1,1.95,1.95,4.1,4.1,1.95,1.95,2.1,4.1,1.95,3.1,4.1,4.1,1.95,3.1,4.1,1.95,1.95,1.95,3.6,4.1,4.1,1.95,2.1,4.5,1.95,4.5,1.95,2.1,2.7,4.5,2.7,2.7,4.5,1.95,2.1,2.7,4.5,1.95,1.95,4.9,1.95,1.95,4.9,1.95,4.9,1.95,4.9,4.9,3.6,1.95,1.95,1.95,1.95,1.95,1.95,4.5,1.95,1.95,1.95,2.7,1.95,2.4,4.5,2.7,3.6,4.5,1.95,1.95,2.4,2.7,4.5,1.95,3.1,4.5,1.95,2.4,4.5,4.5,2.1,3.6,4.1,1.95,4.1,4.9,1.95,2.7,4.1,1.95,1.95,4.1,4.9,1.95,2.4,4.1,1.95,4.1,4.1,1.95,1.95,4.1,4.1,1.95,3.1,4.1,4.1,2.7,4.1,4.1,1.95,3.6,4.1,4.1,1.95,3.6,4.5,1.95,4.5,1.95,3.6,4.1,4.5,4.1,2.1,4.5,1.95,2.1,3.6,4.5,1.95,1.95,5.3,1.95,5.3,1.95,5.3,1.95,1.95,5.3,1.95,5.3,2.1,3.1,2.1,2.4,4.1,2.4,3.1,2.4,3.1,4.1,1.95,2.4,1.95,2.4,1.95,2.4,2.4,1.95,2.4,2.4,3.6,1.95,1.95,2.4,1.95,2.4,1.95,2.4,1.95,1.95,2.4,4.1,1.95,2.4,1.95,2.4,1.95,2.4,1.95,2.4,2.4,1.95,2.4,3.1,1.95,2.4,2.4,1.95,2.4,4.1,2.4,1.95,2.4,1.95,2.4,1.95,1.95,2.4,1.95,1.95,2.4,2.7,1.95,1.95,1.95,2.4,1.95,1.95,3.6,2.4,1.95,1.95,2.4,1.95,2.4,1.95,1.95,3.1,2.4,3.6,1.95,2.4,4.1,4.1,2.4,2.4,1.95,2.4,2.4,3.6,5.3,2.4,5.3,2.4,2.4,5.3,1.95,2.4,5.3,2.4,4.1,1.95,2.4,4.1,5.3,1.95,2.4,4.5,1.95,2.4,4.1,4.5,5.3,2.4,1.95,2.4,3.6,4.5,1.95,2.1,2.4,3.1,2.4,3.6,4.5,1.95,2.1,2.4,3.1,3.6,1.95,2.4,3.1,4.5,1.95,2.4,3.6,1.95,2.4,3.6,3.6,4.5,1.95,2.4,4.1,1.95,2.4,3.6,4.5,4.5,1.95,2.4,1.95,2.4,3.1,4.5,1.95,2.4,2.4,3.1,4.5,1.95,2.4,2.4,3.1,3.1,4.1,1.95,2.4,3.1,3.1,4.1,1.95,2.1,2.4,2.7,3.6,1.95,2.4,2.7,4.1,2.4,2.7,1.95,2.1,2.4,1.95,2.4,3.1,3.1,3.6,1.95,2.4,3.1,3.1,4.9,1.95,2.4,3.1,4.1,4.9,1.95,2.4,3.1,3.1,2.4,3.1,3.1,4.1,4.1,1.95,2.4,3.6,4.1,1.95,2.4,2.7,1.95,2.4,4.1,1.95,2.4,1.95,2.4,4.5,2.4,3.1,3.6,4.5,1.95,2.4,3.1,4.5,2.4,3.1,3.1,4.5,2.4,3.1,4.5,1.95,2.4,4.1,1.95,2.4,2.7,4.1,1.95,2.1,2.4,2.4,1.95,2.4,2.7,1.95]\n",
    "non_vegan_meals = [1.95,4.5,4.9,0.8,1,1.95,2.7,4.9,0.8,1,1.95,3.1,3.6,0.8,1,3.6,3.6,5.3,0.8,3.1,4.1,0.8,2.7,3.6,4.1,0.8,1.95,4.5,5.7,4.9,0.8,2.7,4.1,4.1,0.8,1.95,2.7,4.9,0.8,3.1,4.1,0.8,1,3.6,0.8,1.95,4.5,0.8,1,4.9,5.3,0.8,2.1,3.1,4.9,0.8,1.95,3.1,4.5,0.8,1.95,3.6,3.6,0.8,2.7,4.1,4.5,0.8,1.95,3.6,4.1,0.8,1.3,3.1,3.6,4.1,0.8,1.3,3.6,4.9,0.8,1.3,1.95,3.1,3.1,4.9,0.8,1.3,1.95,3.1,3.1,3.6,4.9,0.8,1.3,1.95,3.1,3.6,4.5,4.1,5.3,0.8,1.3,4.1,4.1,4.1,0.8,1.3,4.1,5.3,4.9,0.8,1.3,1.95,4.1,4.1,4.5,0.8,1.3,2.7,4.1,4.9,0.8,1.3,3.1,4.1,4.1,4.5,5.3,0.8,1.3,3.1,3.6,4.5,5.3,0.8,1.3,1.95,4.1,4.1,5.3,0.8,1.3,4.5,4.5,5.3,0.8,1.3,1.95,3.6,4.1,5.3,6.1,0.8,1.3,3.1,4.5,5.3,5.7,0.8,1.3,1.95,4.5,5.7,0.8,1.3,1.95,3.6,4.1,5.7,0.8,1.3,1.95,1.95,4.5,5.7,0.8,1.3,1,1.95,3.6,3.6,5.7,0.8,1.3,1.95,2.4,3.6,4.5,5.7,6.1,0.8,1.3,2.4,4.9,5.7,0.8,1.3,3.1,4.1,5.7,6.1,0.8,1.3,3.6,5.3,5.7,0.8,1.3,3.1,3.1,4.5,5.3,0.8,0.9,1.3,1.95,3.6,4.9,5.3,5.7,0.8,0.9,1.3,3.1,3.6,4.1,4.1,0.8,1.3,4.5,5.3,5.7,1.3,1.95,3.1,5.3,4.1,4.5,0.8,1.3,1.95,4.5,4.5,0.8,1.3,3.1,3.1,3.6,0.8,1.3,1.95,4.5,4.5,4.9,0.8,1.3,1.95,4.5,0.8,1.3,1.95,1.95,4.5,5.3,0.8,1.3,3.1,4.9,0.8,3.1,3.6,0.8,0.9,1.3,2.7,4.5,0.8,1.3,3.6,3.6,4.5,0.8,1.3,4.5,4.5,0.8,1.3,2.1,4.1,5.3,0.8,1.3,2.4,3.6,3.6,5.7,0.8,0.9,1.3,4.5,4.5,0.8,1.3,1.95,4.1,5.3,5.7,0.8,1.3,1.95,3.1,3.6,0.8,1.3,4.1,4.9,5.3,0.8,0.9,1.3,3.6,4.1,5.7,0.8,1.3,1.95,4.1,3.1,3.6,4.5,4.5,0.8,1.3,1.95,4.1,4.1,4.5,5.7,0.8,1.3,1.95,2.7,4.9,4.9,0.8,1.3,1.95,1.95,2.7,3.1,3.6,0.8,1.3,1.95,1.95,4.1,4.5,0.8,1.3,1.95,3.6,4.1,4.1,0.8,1.3,1.95,2.1,3.6,4.5,0.8,1.3,2.7,4.1,0.8,4.9,0.8,4.5,0.8,1.95,4.9,0.8,3.1,4.1,5.3,0.8,0.9,1.3,1.95,4.1,4.1,5.3,0.8,0.9,1.3,3.6,3.6,0.8,1.3,3.6,5.3,0.8,1.3,3.1,4.5,0.8,1.3,1.95,4.1,4.5,0.8,0.9,1.3,2.7,3.1,3.6,0.8,0.9,1.3,4.5,4.5,4.9,0.8,1.3,1.95,4.5,0.8,1.3,1.95,4.5,5.3,0.8,1.3,1.95,3.1,4.9,0.8,0.9,1.3,3.1,3.6,0.8,0.9,1.3,1.95,3.1,3.6,0.8,0.9,1.3,1.95,3.6,3.6,0.8,1.3,1.95,1.95,1.95,2.7,4.1,0.8,1.3,3.1,3.6,3.6,0.8,1.3,2.4,3.6,4.9,5.7,0.8,1.3,1,2.4,3.6,0.8,1.3,1.95,1.95,4.5,5.7,0.8,1.3,1.95,1.95,3.6,4.1,0.8,1.3,4.1,4.9,5.3,0.8,1.3,1.95,4.5,3.6,4.1,5.3,]"
   ]
  },
  {
   "cell_type": "markdown",
   "id": "8879d2c3",
   "metadata": {},
   "source": [
    "\n",
    "What is the mean of the vegan and non vegan meals? What is the absolute difference? What are the min and max prices of all our data? "
   ]
  },
  {
   "cell_type": "code",
   "execution_count": 19,
   "id": "846559da",
   "metadata": {},
   "outputs": [
    {
     "name": "stdout",
     "output_type": "stream",
     "text": [
      "mean vegan: 2.9, mean non vegan: 2.7, abs differnce: 0.18\n"
     ]
    }
   ],
   "source": [
    "mean_vegan = np.mean(vegan_meals)\n",
    "mean_non_vegan = np.mean(non_vegan_meals)\n",
    "difference = mean_non_vegan-mean_vegan\n",
    "print(f\"mean vegan: {mean_vegan:.2}, mean non vegan: {mean_non_vegan:.2}, abs differnce: {np.abs(difference):.2}\")"
   ]
  },
  {
   "cell_type": "markdown",
   "id": "23fe63f7",
   "metadata": {},
   "source": [
    "Now we want to know the median and the standard deviation of the data."
   ]
  },
  {
   "cell_type": "code",
   "execution_count": 20,
   "id": "7cbd17d1",
   "metadata": {},
   "outputs": [
    {
     "name": "stdout",
     "output_type": "stream",
     "text": [
      "2.4\n",
      "median vegan meals: 2.4, median non vegan meals: 2.7, std vegan meals: 1.1, std non vegan meals: 1.1\n"
     ]
    }
   ],
   "source": [
    "print(np.median(vegan_meals))\n",
    "vegan_meals.sort()\n",
    "median_vegan_meals = vegan_meals[len(vegan_meals)//2]\n",
    "median_non_vegan_meals = np.median(non_vegan_meals)\n",
    "    \n",
    "\n",
    "std_vegan_meals = np.std(vegan_meals)\n",
    "std_non_vegan_meals = np.std(vegan_meals)\n",
    "print(f\"median vegan meals: {median_vegan_meals:.2}, median non vegan meals: {median_non_vegan_meals:.2}, std vegan meals: {std_vegan_meals:.2}, std non vegan meals: {std_non_vegan_meals:.2}\")\n",
    "\n"
   ]
  },
  {
   "cell_type": "markdown",
   "id": "ff8e453b",
   "metadata": {},
   "source": [
    "Now randomly sample 10 meals from the vegan meals."
   ]
  },
  {
   "cell_type": "code",
   "execution_count": 21,
   "id": "a3d87d71",
   "metadata": {},
   "outputs": [
    {
     "data": {
      "text/plain": [
       "array([2.4 , 4.1 , 1.95, 4.5 , 1.95, 2.7 , 4.1 , 1.95, 3.1 , 1.95])"
      ]
     },
     "execution_count": 21,
     "metadata": {},
     "output_type": "execute_result"
    }
   ],
   "source": [
    "vegan_sample = np.random.choice(vegan_meals,10)\n",
    "vegan_sample"
   ]
  },
  {
   "cell_type": "markdown",
   "id": "a8e25476",
   "metadata": {},
   "source": [
    "Calculate the mean of the sample."
   ]
  },
  {
   "cell_type": "code",
   "execution_count": 22,
   "id": "d96187f7",
   "metadata": {},
   "outputs": [
    {
     "name": "stdout",
     "output_type": "stream",
     "text": [
      "mean of sample: 2.87\n"
     ]
    }
   ],
   "source": [
    "print(f\"mean of sample: {np.mean(vegan_sample)}\")"
   ]
  },
  {
   "cell_type": "markdown",
   "id": "cfc81daa",
   "metadata": {},
   "source": [
    "We want to know what the mean of all unique prices is."
   ]
  },
  {
   "cell_type": "code",
   "execution_count": 23,
   "id": "4cbab93a",
   "metadata": {},
   "outputs": [
    {
     "name": "stdout",
     "output_type": "stream",
     "text": [
      "mean of unique prices: 3.705\n"
     ]
    }
   ],
   "source": [
    "mean_of_unique = np.mean(list(set(vegan_meals)))\n",
    "print(f\"mean of unique prices: {mean_of_unique:.4}\")"
   ]
  },
  {
   "cell_type": "markdown",
   "id": "1f16463a",
   "metadata": {},
   "source": [
    "Write a function that can calculate the mean of a list."
   ]
  },
  {
   "cell_type": "code",
   "execution_count": 24,
   "id": "ee0933fc",
   "metadata": {},
   "outputs": [
    {
     "name": "stdout",
     "output_type": "stream",
     "text": [
      "2.9197999999999995\n"
     ]
    }
   ],
   "source": [
    "def mean(data):\n",
    "    the_mean = sum(data)/len(data)\n",
    "    return the_mean\n",
    "print(mean(vegan_meals))"
   ]
  },
  {
   "cell_type": "markdown",
   "id": "43d0f187",
   "metadata": {},
   "source": [
    "Now write a function that draws a sample of the data, calculates the mean of it and compares it to the true mean of the data."
   ]
  },
  {
   "cell_type": "code",
   "execution_count": 25,
   "id": "760a2aa3",
   "metadata": {},
   "outputs": [
    {
     "data": {
      "text/plain": [
       "-0.17019999999999946"
      ]
     },
     "execution_count": 25,
     "metadata": {},
     "output_type": "execute_result"
    }
   ],
   "source": [
    "def compare_sample_mean(data):\n",
    "    sample = np.random.choice(data,10)\n",
    "    true_mean = np.mean(data)\n",
    "    sample_mean = np.mean(sample)\n",
    "    return true_mean-sample_mean\n",
    "\n",
    "compare_sample_mean(vegan_meals)"
   ]
  },
  {
   "cell_type": "markdown",
   "id": "c0c29f5c",
   "metadata": {},
   "source": [
    "Use the function to compare 1000 times the sample mean to the true mean and calculate the mean of that."
   ]
  },
  {
   "cell_type": "code",
   "execution_count": 26,
   "id": "dddff753",
   "metadata": {},
   "outputs": [
    {
     "name": "stdout",
     "output_type": "stream",
     "text": [
      "-0.0008319999999995218\n"
     ]
    }
   ],
   "source": [
    "differenc_of_mean = []\n",
    "for i in range(10000):\n",
    "    differenc_of_mean.append(compare_sample_mean(vegan_meals))\n",
    "print(np.mean(differenc_of_mean))"
   ]
  },
  {
   "cell_type": "markdown",
   "id": "34dccb88",
   "metadata": {},
   "source": [
    "We want to know what is the number of the meal which costs more than X  \n",
    "Write a function to do that."
   ]
  },
  {
   "cell_type": "code",
   "execution_count": 27,
   "id": "e7d0658b",
   "metadata": {},
   "outputs": [
    {
     "data": {
      "text/plain": [
       "'no such meal exists'"
      ]
     },
     "execution_count": 27,
     "metadata": {},
     "output_type": "execute_result"
    }
   ],
   "source": [
    "def costs_more_then (data, value):\n",
    "    counter = 0\n",
    "    for i in data:\n",
    "        if i > value:\n",
    "            return counter\n",
    "        counter += 1\n",
    "    return ('no such meal exists')\n",
    "costs_more_then(vegan_meals,7)"
   ]
  },
  {
   "cell_type": "markdown",
   "id": "a468ae79",
   "metadata": {},
   "source": [
    "Now we want to convert the data into a dictionary where the key is the ID and the value is the price."
   ]
  },
  {
   "cell_type": "code",
   "execution_count": 28,
   "id": "a4db96b6",
   "metadata": {},
   "outputs": [],
   "source": [
    "vegan_meals_dict = {}\n",
    "for index, value in enumerate(vegan_meals):\n",
    "    vegan_meals_dict[index] = value"
   ]
  },
  {
   "cell_type": "code",
   "execution_count": 29,
   "id": "af574e7b",
   "metadata": {},
   "outputs": [],
   "source": [
    "vegan_meals_dict = {}\n",
    "for index, value in zip(range(len(vegan_meals)),vegan_meals):\n",
    "    vegan_meals_dict[index] = value"
   ]
  },
  {
   "cell_type": "markdown",
   "id": "dd416956",
   "metadata": {},
   "source": [
    "Now we want to write the data to a file. "
   ]
  },
  {
   "cell_type": "code",
   "execution_count": null,
   "id": "7ac678c2",
   "metadata": {},
   "outputs": [],
   "source": [
    "with open ('test_file_1.csv','w') as file:\n",
    "    file.write('test')\n",
    "with open ('test_file_1.csv','w') as file:\n",
    "    writer = csv.writer(file)\n",
    "    for veg,non_veg in zip(vegan_meals,non_vegan_meals):\n",
    "        writer.writerow([veg,non_veg])"
   ]
  },
  {
   "cell_type": "markdown",
   "id": "02d24f65",
   "metadata": {},
   "source": [
    "Now we want to read the data again."
   ]
  },
  {
   "cell_type": "code",
   "execution_count": 31,
   "id": "adadac92",
   "metadata": {},
   "outputs": [],
   "source": [
    "data = []\n",
    "with open ('test_file_1.csv','r') as file:\n",
    "    reader = csv.reader(file)\n",
    "    next(reader)\n",
    "    for row in reader:\n",
    "        #print(row)\n",
    "        data.append(row)"
   ]
  },
  {
   "cell_type": "markdown",
   "id": "9b1d7315",
   "metadata": {},
   "source": [
    "Now we want to add one line at the end of the file."
   ]
  },
  {
   "cell_type": "code",
   "execution_count": 32,
   "id": "4c297131",
   "metadata": {},
   "outputs": [],
   "source": [
    "new_data = [1,5]\n",
    "with open ('test_file_1.csv','a')as file:\n",
    "    writer = csv.writer(file)\n",
    "    writer.writerow(new_data)"
   ]
  }
 ],
 "metadata": {
  "kernelspec": {
   "display_name": "Python 3",
   "language": "python",
   "name": "python3"
  },
  "language_info": {
   "codemirror_mode": {
    "name": "ipython",
    "version": 3
   },
   "file_extension": ".py",
   "mimetype": "text/x-python",
   "name": "python",
   "nbconvert_exporter": "python",
   "pygments_lexer": "ipython3",
   "version": "3.12.3"
  }
 },
 "nbformat": 4,
 "nbformat_minor": 5
}
