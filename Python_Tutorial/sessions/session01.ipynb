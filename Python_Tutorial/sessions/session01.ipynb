{
 "cells": [
  {
   "cell_type": "markdown",
   "id": "cd2969f6",
   "metadata": {},
   "source": [
    "## Create a personalized gift response card"
   ]
  },
  {
   "cell_type": "markdown",
   "id": "cedcec9d",
   "metadata": {},
   "source": [
    "You had a big birthday and got a lot of gifts.  \n",
    "Because you are a very good friend, you want to thank everyone with a personalized thank you card.   \n",
    "But because you are lazy, we want to automate the job with coding."
   ]
  },
  {
   "cell_type": "code",
   "execution_count": 89,
   "id": "3c3703e6",
   "metadata": {},
   "outputs": [],
   "source": [
    "name = 'Simon'\n",
    "gift = 'bike'\n",
    "came_alone = False\n",
    "close_friend = True\n",
    "known_since = 4\n",
    "last_time_seen = 15\n",
    "interests = ['rock music','modern art','technology','animal rights']\n",
    "city = 'graz'\n",
    "street = 'hauptpltaz 1'\n"
   ]
  },
  {
   "cell_type": "markdown",
   "id": "819fc466",
   "metadata": {},
   "source": [
    "`Hello ___ I want to thank you for your nice gift. I really like the ____ you got me.`"
   ]
  },
  {
   "cell_type": "code",
   "execution_count": null,
   "id": "41037baa",
   "metadata": {},
   "outputs": [],
   "source": [
    "# Code\n"
   ]
  },
  {
   "cell_type": "markdown",
   "id": "835e7055",
   "metadata": {},
   "source": [
    "If the friend came with someone, we want to ask how their partner is, with whom they came. If they came alone, we want to ask if they met anyone.  \n",
    "If they are a close one and came alone, we also want to ask if they have gone home with someone.  \n",
    "`I hope your company also had a nice time at the party how are they?`  \n",
    "`I noticed you came alone to the party. Could you manage to meet someone nice with whom you could talk?`  \n",
    "`Maybe more than just talk? I don't remember if you did have company while leaving?`\n",
    " "
   ]
  },
  {
   "cell_type": "code",
   "execution_count": null,
   "id": "35deaffb",
   "metadata": {},
   "outputs": [
    {
     "name": "stdout",
     "output_type": "stream",
     "text": [
      "I noticed you came alone to the party. Could you manage to meet someone nice with whom you could talk? Maybe more than just talk? I don't remember if you did have company while leaving, had you?\n"
     ]
    }
   ],
   "source": [
    "#code "
   ]
  },
  {
   "cell_type": "markdown",
   "id": "0e9726d3",
   "metadata": {},
   "source": [
    "Now we want to acknowledge how long we already know that friend and calculate what percentage of your life that is.  \n",
    "`Anyway, it's crazy that we've already known each other for ____ years, thas ist ____ % of my life, can you imagine that?!`"
   ]
  },
  {
   "cell_type": "code",
   "execution_count": null,
   "id": "866d76fc",
   "metadata": {},
   "outputs": [
    {
     "name": "stdout",
     "output_type": "stream",
     "text": [
      "Anyway, it's crazy that we've already known each other for 4 years, thas ist 6.75% of my life, can you imagine that?!\n"
     ]
    }
   ],
   "source": [
    "my_age = 27\n",
    "percentage = my_age/known_since\n",
    "\n"
   ]
  },
  {
   "cell_type": "markdown",
   "id": "e7632ae5",
   "metadata": {},
   "source": [
    "Now we want to mention which interests we both have, if we have more then 3 in common, just use the first 3, if we have none in common, then say:  \n",
    "`That's probably because we have so diffrent interest and therefore we can take a peek in a different world.`  \n",
    "If we have some in common, say:   \n",
    "`That's probably because we both like ___ `"
   ]
  },
  {
   "cell_type": "code",
   "execution_count": null,
   "id": "0b54495b",
   "metadata": {},
   "outputs": [
    {
     "name": "stdout",
     "output_type": "stream",
     "text": [
      "That's probably because we both like: rock music, animal rights\n"
     ]
    }
   ],
   "source": [
    "my_interest = ['animal rights','flowers','dancing','rock music']\n"
   ]
  },
  {
   "cell_type": "markdown",
   "id": "8f811c32",
   "metadata": {},
   "source": [
    "now we want to thank the person and say goodbye.   \n",
    "`Again, thank you for being there. I look forward to seeing you again sometime`"
   ]
  },
  {
   "cell_type": "code",
   "execution_count": 63,
   "id": "541e6d79",
   "metadata": {},
   "outputs": [],
   "source": [
    "fith_line = 'Again, thank you for being there. I look forward to seeing you again sometime.'"
   ]
  },
  {
   "cell_type": "markdown",
   "id": "80fb6737",
   "metadata": {},
   "source": [
    "Now you need to write the postal address, therefore, you need to access the postal code out of the dictionary. If the postal code is a string, convert it into an int before using it."
   ]
  },
  {
   "cell_type": "code",
   "execution_count": null,
   "id": "567ddda8",
   "metadata": {},
   "outputs": [
    {
     "name": "stdout",
     "output_type": "stream",
     "text": [
      "Letter to: hauptpltaz 1, Graz 8010\n"
     ]
    }
   ],
   "source": [
    "city_codes = {'graz':'8010','eggenberg':8020,'neudrof':8041,'wiener neustadt': '2700','salzburg':5081}\n",
    "\n"
   ]
  },
  {
   "cell_type": "markdown",
   "id": "8ccca500",
   "metadata": {},
   "source": [
    "Now print the letter. Each line should be separated with a new line. "
   ]
  },
  {
   "cell_type": "code",
   "execution_count": null,
   "id": "4b8e0de6",
   "metadata": {},
   "outputs": [
    {
     "name": "stdout",
     "output_type": "stream",
     "text": [
      "Hello Simon I want to thank you for your nice gift. I really like the bike you got me.\n",
      "I noticed you came alone to the party. Could you manage to meet someone nice with whom you could talk? Maybe more than just talk? I don't remember if you did have company while leaving, had you?\n",
      "Anyway, it's crazy that we've already known each other for 4 years, thas ist 6.75% of my life, can you imagine that?!\n",
      "That's probably because we both like: rock music, animal rights\n",
      "Again, thank you for being there. I look forward to seeing you again sometime.\n",
      "Letter to: hauptpltaz 1, Graz 8010\n"
     ]
    }
   ],
   "source": [
    "# code"
   ]
  },
  {
   "cell_type": "markdown",
   "id": "3bc96430",
   "metadata": {},
   "source": [
    "This is a list of each person who came to my birthday party. The list is ordered by the time they came. "
   ]
  },
  {
   "cell_type": "code",
   "execution_count": null,
   "id": "d370f604",
   "metadata": {},
   "outputs": [],
   "source": [
    "#code\n",
    "guests = ['Anna','Lukas','Sophia','David','Leon','Maria','Samuel','Anna','Leon','Jonas','Clara','Mehmet','Ali','Julia','Samuel','Aisha','Leon','Elena','Omar','Felix']"
   ]
  },
  {
   "cell_type": "markdown",
   "id": "3b5c87e1",
   "metadata": {},
   "source": [
    "Print who was the first and the last one who came to the party.  \n",
    "`the first at the party was:___ and the last at the pary was: ___`  \n",
    "Print how many people were at the party  \n",
    "`There were ___ people at my party`  "
   ]
  },
  {
   "cell_type": "code",
   "execution_count": null,
   "id": "1d524155",
   "metadata": {},
   "outputs": [
    {
     "name": "stdout",
     "output_type": "stream",
     "text": [
      "the first at the party was: Anna, and the last at the party was: Felix\n",
      "There were 20 people at my party\n"
     ]
    }
   ],
   "source": [
    "#code "
   ]
  },
  {
   "cell_type": "markdown",
   "id": "2a5f32f7",
   "metadata": {},
   "source": [
    "Who is the person who came in the middle?  \n",
    "`___  arrived in the middle`"
   ]
  },
  {
   "cell_type": "code",
   "execution_count": null,
   "id": "77c00ac8",
   "metadata": {},
   "outputs": [
    {
     "name": "stdout",
     "output_type": "stream",
     "text": [
      "Clara  arrived in the middle\n"
     ]
    }
   ],
   "source": [
    "# code "
   ]
  },
  {
   "cell_type": "markdown",
   "id": "b14f4c7f",
   "metadata": {},
   "source": [
    "Which name was multiple times at the party?"
   ]
  },
  {
   "cell_type": "code",
   "execution_count": null,
   "id": "7988a645",
   "metadata": {},
   "outputs": [
    {
     "name": "stdout",
     "output_type": "stream",
     "text": [
      "the name Leon was used by 3 \n",
      "the name Samuel was used by 2 \n",
      "the name Anna was used by 2 \n"
     ]
    }
   ],
   "source": [
    "# code "
   ]
  },
  {
   "cell_type": "markdown",
   "id": "9a7059af",
   "metadata": {},
   "source": [
    "What name was used 2 times?  \n",
    "`The names ___ were used 2 times at the party`\n"
   ]
  },
  {
   "cell_type": "code",
   "execution_count": null,
   "id": "40aef86d",
   "metadata": {},
   "outputs": [
    {
     "name": "stdout",
     "output_type": "stream",
     "text": [
      "The names ['Samuel', 'Anna'] were used 2 times at the party\n"
     ]
    }
   ],
   "source": [
    "#code \n",
    "used_two_times = []\n"
   ]
  },
  {
   "cell_type": "markdown",
   "id": "84c59e74",
   "metadata": {},
   "source": [
    "What was the most often used name?"
   ]
  },
  {
   "cell_type": "code",
   "execution_count": null,
   "id": "d303e146",
   "metadata": {},
   "outputs": [
    {
     "name": "stdout",
     "output_type": "stream",
     "text": [
      "the name moste often used is: Leon\n"
     ]
    }
   ],
   "source": [
    "# code "
   ]
  }
 ],
 "metadata": {
  "kernelspec": {
   "display_name": "Python 3",
   "language": "python",
   "name": "python3"
  },
  "language_info": {
   "codemirror_mode": {
    "name": "ipython",
    "version": 3
   },
   "file_extension": ".py",
   "mimetype": "text/x-python",
   "name": "python",
   "nbconvert_exporter": "python",
   "pygments_lexer": "ipython3",
   "version": "3.12.3"
  }
 },
 "nbformat": 4,
 "nbformat_minor": 5
}
