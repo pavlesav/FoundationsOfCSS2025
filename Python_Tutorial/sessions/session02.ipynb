{
 "cells": [
  {
   "cell_type": "code",
   "execution_count": 5,
   "id": "b69c18a0",
   "metadata": {},
   "outputs": [],
   "source": [
    "import numpy as np\n",
    "import csv"
   ]
  },
  {
   "cell_type": "markdown",
   "id": "32eb198f",
   "metadata": {},
   "source": [
    "These are the prizes of a German Mensa, the meals are separated if they are vegan or not. Now we want to make some analyses about the prices.\n",
    "\n"
   ]
  },
  {
   "cell_type": "code",
   "execution_count": 2,
   "id": "31c26804",
   "metadata": {},
   "outputs": [],
   "source": [
    "vegan_meals = [2.1,4.1,3.6,1.95,2.7,1.95,3.1,1.95,1.95,3.1,1.95,3.1,2.7,1.95,2.7,1.95,3.1,2.4,4.1,1.95,2.4,1.95,4.1,3.1,1.95,2.4,4.1,4.5,1.95,2.4,4.5,1.95,2.4,4.1,4.5,2.1,4.5,2.1,4.5,1.95,6.1,1.95,3.1,4.9,1.95,1.95,3.1,6.1,1.95,4.9,1.95,1.95,6.1,1.95,1.95,4.1,1.95,2.4,1.95,1.95,4.1,1.95,1.95,4.5,1.95,2.4,4.5,1.95,4.5,1.95,4.5,1.95,4.5,1.95,1.95,4.1,4.5,1.95,1.95,1.95,1.95,2.7,4.5,1.95,4.5,2.1,1.95,4.5,1.95,3.1,4.5,4.5,2.7,3.6,4.1,1.95,4.1,5.3,1.95,4.1,1.95,2.4,4.1,5.3,4.1,1.95,1.95,4.1,4.1,1.95,1.95,2.1,4.1,1.95,3.1,4.1,4.1,1.95,3.1,4.1,1.95,1.95,1.95,3.6,4.1,4.1,1.95,2.1,4.5,1.95,4.5,1.95,2.1,2.7,4.5,2.7,2.7,4.5,1.95,2.1,2.7,4.5,1.95,1.95,4.9,1.95,1.95,4.9,1.95,4.9,1.95,4.9,4.9,3.6,1.95,1.95,1.95,1.95,1.95,1.95,4.5,1.95,1.95,1.95,2.7,1.95,2.4,4.5,2.7,3.6,4.5,1.95,1.95,2.4,2.7,4.5,1.95,3.1,4.5,1.95,2.4,4.5,4.5,2.1,3.6,4.1,1.95,4.1,4.9,1.95,2.7,4.1,1.95,1.95,4.1,4.9,1.95,2.4,4.1,1.95,4.1,4.1,1.95,1.95,4.1,4.1,1.95,3.1,4.1,4.1,2.7,4.1,4.1,1.95,3.6,4.1,4.1,1.95,3.6,4.5,1.95,4.5,1.95,3.6,4.1,4.5,4.1,2.1,4.5,1.95,2.1,3.6,4.5,1.95,1.95,5.3,1.95,5.3,1.95,5.3,1.95,1.95,5.3,1.95,5.3,2.1,3.1,2.1,2.4,4.1,2.4,3.1,2.4,3.1,4.1,1.95,2.4,1.95,2.4,1.95,2.4,2.4,1.95,2.4,2.4,3.6,1.95,1.95,2.4,1.95,2.4,1.95,2.4,1.95,1.95,2.4,4.1,1.95,2.4,1.95,2.4,1.95,2.4,1.95,2.4,2.4,1.95,2.4,3.1,1.95,2.4,2.4,1.95,2.4,4.1,2.4,1.95,2.4,1.95,2.4,1.95,1.95,2.4,1.95,1.95,2.4,2.7,1.95,1.95,1.95,2.4,1.95,1.95,3.6,2.4,1.95,1.95,2.4,1.95,2.4,1.95,1.95,3.1,2.4,3.6,1.95,2.4,4.1,4.1,2.4,2.4,1.95,2.4,2.4,3.6,5.3,2.4,5.3,2.4,2.4,5.3,1.95,2.4,5.3,2.4,4.1,1.95,2.4,4.1,5.3,1.95,2.4,4.5,1.95,2.4,4.1,4.5,5.3,2.4,1.95,2.4,3.6,4.5,1.95,2.1,2.4,3.1,2.4,3.6,4.5,1.95,2.1,2.4,3.1,3.6,1.95,2.4,3.1,4.5,1.95,2.4,3.6,1.95,2.4,3.6,3.6,4.5,1.95,2.4,4.1,1.95,2.4,3.6,4.5,4.5,1.95,2.4,1.95,2.4,3.1,4.5,1.95,2.4,2.4,3.1,4.5,1.95,2.4,2.4,3.1,3.1,4.1,1.95,2.4,3.1,3.1,4.1,1.95,2.1,2.4,2.7,3.6,1.95,2.4,2.7,4.1,2.4,2.7,1.95,2.1,2.4,1.95,2.4,3.1,3.1,3.6,1.95,2.4,3.1,3.1,4.9,1.95,2.4,3.1,4.1,4.9,1.95,2.4,3.1,3.1,2.4,3.1,3.1,4.1,4.1,1.95,2.4,3.6,4.1,1.95,2.4,2.7,1.95,2.4,4.1,1.95,2.4,1.95,2.4,4.5,2.4,3.1,3.6,4.5,1.95,2.4,3.1,4.5,2.4,3.1,3.1,4.5,2.4,3.1,4.5,1.95,2.4,4.1,1.95,2.4,2.7,4.1,1.95,2.1,2.4,2.4,1.95,2.4,2.7,1.95]\n",
    "non_vegan_meals = [1.95,4.5,4.9,0.8,1,1.95,2.7,4.9,0.8,1,1.95,3.1,3.6,0.8,1,3.6,3.6,5.3,0.8,3.1,4.1,0.8,2.7,3.6,4.1,0.8,1.95,4.5,5.7,4.9,0.8,2.7,4.1,4.1,0.8,1.95,2.7,4.9,0.8,3.1,4.1,0.8,1,3.6,0.8,1.95,4.5,0.8,1,4.9,5.3,0.8,2.1,3.1,4.9,0.8,1.95,3.1,4.5,0.8,1.95,3.6,3.6,0.8,2.7,4.1,4.5,0.8,1.95,3.6,4.1,0.8,1.3,3.1,3.6,4.1,0.8,1.3,3.6,4.9,0.8,1.3,1.95,3.1,3.1,4.9,0.8,1.3,1.95,3.1,3.1,3.6,4.9,0.8,1.3,1.95,3.1,3.6,4.5,4.1,5.3,0.8,1.3,4.1,4.1,4.1,0.8,1.3,4.1,5.3,4.9,0.8,1.3,1.95,4.1,4.1,4.5,0.8,1.3,2.7,4.1,4.9,0.8,1.3,3.1,4.1,4.1,4.5,5.3,0.8,1.3,3.1,3.6,4.5,5.3,0.8,1.3,1.95,4.1,4.1,5.3,0.8,1.3,4.5,4.5,5.3,0.8,1.3,1.95,3.6,4.1,5.3,6.1,0.8,1.3,3.1,4.5,5.3,5.7,0.8,1.3,1.95,4.5,5.7,0.8,1.3,1.95,3.6,4.1,5.7,0.8,1.3,1.95,1.95,4.5,5.7,0.8,1.3,1,1.95,3.6,3.6,5.7,0.8,1.3,1.95,2.4,3.6,4.5,5.7,6.1,0.8,1.3,2.4,4.9,5.7,0.8,1.3,3.1,4.1,5.7,6.1,0.8,1.3,3.6,5.3,5.7,0.8,1.3,3.1,3.1,4.5,5.3,0.8,0.9,1.3,1.95,3.6,4.9,5.3,5.7,0.8,0.9,1.3,3.1,3.6,4.1,4.1,0.8,1.3,4.5,5.3,5.7,1.3,1.95,3.1,5.3,4.1,4.5,0.8,1.3,1.95,4.5,4.5,0.8,1.3,3.1,3.1,3.6,0.8,1.3,1.95,4.5,4.5,4.9,0.8,1.3,1.95,4.5,0.8,1.3,1.95,1.95,4.5,5.3,0.8,1.3,3.1,4.9,0.8,3.1,3.6,0.8,0.9,1.3,2.7,4.5,0.8,1.3,3.6,3.6,4.5,0.8,1.3,4.5,4.5,0.8,1.3,2.1,4.1,5.3,0.8,1.3,2.4,3.6,3.6,5.7,0.8,0.9,1.3,4.5,4.5,0.8,1.3,1.95,4.1,5.3,5.7,0.8,1.3,1.95,3.1,3.6,0.8,1.3,4.1,4.9,5.3,0.8,0.9,1.3,3.6,4.1,5.7,0.8,1.3,1.95,4.1,3.1,3.6,4.5,4.5,0.8,1.3,1.95,4.1,4.1,4.5,5.7,0.8,1.3,1.95,2.7,4.9,4.9,0.8,1.3,1.95,1.95,2.7,3.1,3.6,0.8,1.3,1.95,1.95,4.1,4.5,0.8,1.3,1.95,3.6,4.1,4.1,0.8,1.3,1.95,2.1,3.6,4.5,0.8,1.3,2.7,4.1,0.8,4.9,0.8,4.5,0.8,1.95,4.9,0.8,3.1,4.1,5.3,0.8,0.9,1.3,1.95,4.1,4.1,5.3,0.8,0.9,1.3,3.6,3.6,0.8,1.3,3.6,5.3,0.8,1.3,3.1,4.5,0.8,1.3,1.95,4.1,4.5,0.8,0.9,1.3,2.7,3.1,3.6,0.8,0.9,1.3,4.5,4.5,4.9,0.8,1.3,1.95,4.5,0.8,1.3,1.95,4.5,5.3,0.8,1.3,1.95,3.1,4.9,0.8,0.9,1.3,3.1,3.6,0.8,0.9,1.3,1.95,3.1,3.6,0.8,0.9,1.3,1.95,3.6,3.6,0.8,1.3,1.95,1.95,1.95,2.7,4.1,0.8,1.3,3.1,3.6,3.6,0.8,1.3,2.4,3.6,4.9,5.7,0.8,1.3,1,2.4,3.6,0.8,1.3,1.95,1.95,4.5,5.7,0.8,1.3,1.95,1.95,3.6,4.1,0.8,1.3,4.1,4.9,5.3,0.8,1.3,1.95,4.5,3.6,4.1,5.3,]"
   ]
  },
  {
   "cell_type": "markdown",
   "id": "8879d2c3",
   "metadata": {},
   "source": [
    "\n",
    "What is the mean of the vegan and non vegan meals? What is the absolute difference? What are the min and max prices of all our data? "
   ]
  },
  {
   "cell_type": "code",
   "execution_count": 1,
   "id": "846559da",
   "metadata": {},
   "outputs": [
    {
     "name": "stdout",
     "output_type": "stream",
     "text": [
      "mean vegan: , mean non vegan: , abs differnce: \n"
     ]
    }
   ],
   "source": [
    "mean_vegan = _\n",
    "mean_non_vegan = _\n",
    "difference = _\n",
    "abs_difference = _\n",
    "print(f\"mean vegan: {mean_vegan:.2}, mean non vegan: {mean_non_vegan:.2}, abs differnce: {abs_difference:.2}\")"
   ]
  },
  {
   "cell_type": "markdown",
   "id": "23fe63f7",
   "metadata": {},
   "source": [
    "Now we want to know the median and the standard deviation of the data."
   ]
  },
  {
   "cell_type": "code",
   "execution_count": null,
   "id": "7cbd17d1",
   "metadata": {},
   "outputs": [
    {
     "name": "stdout",
     "output_type": "stream",
     "text": [
      "2.4\n",
      "median vegan meals: 2.4, median non vegan meals: 2.7, std vegan meals: 1.1, std non vegan meals: 1.1\n"
     ]
    }
   ],
   "source": [
    "median_vegan_meals = _\n",
    "median_non_vegan_meals = _\n",
    "    \n",
    "\n",
    "std_vegan_meals = _\n",
    "std_non_vegan_meals = _\n",
    "print(f\"median vegan meals: {median_vegan_meals:.2}, median non vegan meals: {median_non_vegan_meals:.2}, std vegan meals: {std_vegan_meals:.2}, std non vegan meals: {std_non_vegan_meals:.2}\")\n",
    "\n"
   ]
  },
  {
   "cell_type": "markdown",
   "id": "ff8e453b",
   "metadata": {},
   "source": [
    "Now randomly sample 10 meals from the vegan meals."
   ]
  },
  {
   "cell_type": "code",
   "execution_count": null,
   "id": "a3d87d71",
   "metadata": {},
   "outputs": [
    {
     "data": {
      "text/plain": [
       "array([4.1 , 4.5 , 4.1 , 4.1 , 4.1 , 4.1 , 1.95, 3.6 , 2.1 , 1.95])"
      ]
     },
     "execution_count": 5,
     "metadata": {},
     "output_type": "execute_result"
    }
   ],
   "source": [
    "vegan_sample = _\n",
    "print(vegan_sample)"
   ]
  },
  {
   "cell_type": "markdown",
   "id": "a8e25476",
   "metadata": {},
   "source": [
    "Calculate the mean of the sample."
   ]
  },
  {
   "cell_type": "code",
   "execution_count": null,
   "id": "d96187f7",
   "metadata": {},
   "outputs": [
    {
     "name": "stdout",
     "output_type": "stream",
     "text": [
      "mean of sample: 3.46\n"
     ]
    }
   ],
   "source": [
    "mean_of_sample = _\n",
    "print(f\"mean of sample: {mean_of_sample}\")"
   ]
  },
  {
   "cell_type": "markdown",
   "id": "cfc81daa",
   "metadata": {},
   "source": [
    "We want to know what the mean of all unique prices is."
   ]
  },
  {
   "cell_type": "code",
   "execution_count": null,
   "id": "4cbab93a",
   "metadata": {},
   "outputs": [
    {
     "name": "stdout",
     "output_type": "stream",
     "text": [
      "mean of unique prices: 3.705\n"
     ]
    }
   ],
   "source": [
    "mean_of_unique = _\n",
    "print(f\"mean of unique prices: {mean_of_unique:.4}\")"
   ]
  },
  {
   "cell_type": "markdown",
   "id": "1f16463a",
   "metadata": {},
   "source": [
    "Write a function that can calculate the mean of a list."
   ]
  },
  {
   "cell_type": "code",
   "execution_count": null,
   "id": "ee0933fc",
   "metadata": {},
   "outputs": [
    {
     "name": "stdout",
     "output_type": "stream",
     "text": [
      "2.9197999999999995\n"
     ]
    }
   ],
   "source": [
    "# code "
   ]
  },
  {
   "cell_type": "markdown",
   "id": "43d0f187",
   "metadata": {},
   "source": [
    "Now write a function that draws a sample of the data, calculates the mean of it and compares it to the true mean of the data."
   ]
  },
  {
   "cell_type": "code",
   "execution_count": null,
   "id": "760a2aa3",
   "metadata": {},
   "outputs": [
    {
     "data": {
      "text/plain": [
       "0.5348000000000006"
      ]
     },
     "execution_count": 33,
     "metadata": {},
     "output_type": "execute_result"
    }
   ],
   "source": [
    "def compare_sample_mean(data):\n",
    "\n",
    "    return \n",
    "\n",
    "compare_sample_mean(vegan_meals)"
   ]
  },
  {
   "cell_type": "markdown",
   "id": "c0c29f5c",
   "metadata": {},
   "source": [
    "Use the function to compare 1000 times the sample mean to the true mean and calculate the mean of that."
   ]
  },
  {
   "cell_type": "code",
   "execution_count": null,
   "id": "dddff753",
   "metadata": {},
   "outputs": [
    {
     "name": "stdout",
     "output_type": "stream",
     "text": [
      "-0.00016299999999952428\n"
     ]
    }
   ],
   "source": [
    "differenc_of_mean = []\n",
    "\n",
    "print(np.mean(differenc_of_mean))"
   ]
  },
  {
   "cell_type": "markdown",
   "id": "34dccb88",
   "metadata": {},
   "source": [
    "We want to know what is the number of the meal which costs more than X  \n",
    "Write a function to do that."
   ]
  },
  {
   "cell_type": "code",
   "execution_count": null,
   "id": "e7d0658b",
   "metadata": {},
   "outputs": [
    {
     "data": {
      "text/plain": [
       "-1"
      ]
     },
     "execution_count": 105,
     "metadata": {},
     "output_type": "execute_result"
    }
   ],
   "source": [
    "def costs_more_then (data, value):\n",
    "    return\n",
    "costs_more_then(vegan_meals,7)"
   ]
  },
  {
   "cell_type": "markdown",
   "id": "a468ae79",
   "metadata": {},
   "source": [
    "Now we want to convert the data into a dictionary where the key is the ID and the value is the price."
   ]
  },
  {
   "cell_type": "code",
   "execution_count": null,
   "id": "a4db96b6",
   "metadata": {},
   "outputs": [],
   "source": [
    "vegan_meals_dict = {}\n"
   ]
  },
  {
   "cell_type": "code",
   "execution_count": null,
   "id": "af574e7b",
   "metadata": {},
   "outputs": [],
   "source": [
    "vegan_meals_dict = {}\n"
   ]
  },
  {
   "cell_type": "markdown",
   "id": "dd416956",
   "metadata": {},
   "source": [
    "Now we want to write the data to a file. "
   ]
  },
  {
   "cell_type": "code",
   "execution_count": null,
   "id": "7ac678c2",
   "metadata": {},
   "outputs": [],
   "source": [
    "# code \n",
    "    "
   ]
  },
  {
   "cell_type": "markdown",
   "id": "02d24f65",
   "metadata": {},
   "source": [
    "Now we want to read the data again."
   ]
  },
  {
   "cell_type": "code",
   "execution_count": null,
   "id": "adadac92",
   "metadata": {},
   "outputs": [],
   "source": [
    "data = []\n"
   ]
  },
  {
   "cell_type": "markdown",
   "id": "9b1d7315",
   "metadata": {},
   "source": [
    "Now we want to add one line at the end of the file."
   ]
  },
  {
   "cell_type": "code",
   "execution_count": null,
   "id": "4c297131",
   "metadata": {},
   "outputs": [],
   "source": [
    "new_data = [1,5]\n"
   ]
  }
 ],
 "metadata": {
  "kernelspec": {
   "display_name": "Python 3",
   "language": "python",
   "name": "python3"
  },
  "language_info": {
   "codemirror_mode": {
    "name": "ipython",
    "version": 3
   },
   "file_extension": ".py",
   "mimetype": "text/x-python",
   "name": "python",
   "nbconvert_exporter": "python",
   "pygments_lexer": "ipython3",
   "version": "3.12.3"
  }
 },
 "nbformat": 4,
 "nbformat_minor": 5
}
